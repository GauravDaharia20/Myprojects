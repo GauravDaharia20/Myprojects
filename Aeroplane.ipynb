{
  "nbformat": 4,
  "nbformat_minor": 0,
  "metadata": {
    "colab": {
      "name": "Aeroplane.ipynb",
      "provenance": []
    },
    "kernelspec": {
      "name": "python3",
      "display_name": "Python 3"
    },
    "accelerator": "GPU"
  },
  "cells": [
    {
      "cell_type": "code",
      "metadata": {
        "id": "02DiClkk_JF6",
        "colab_type": "code",
        "outputId": "fc146a8e-b27f-4311-c13f-6354ee77f9fc",
        "colab": {
          "base_uri": "https://localhost:8080/",
          "height": 110
        }
      },
      "source": [
        "import pandas as pd\n",
        "import numpy as np\n",
        "import seaborn as sns\n",
        "import matplotlib.pyplot as plt\n",
        "from sklearn.preprocessing import LabelEncoder,MinMaxScaler,StandardScaler\n",
        "from imblearn.over_sampling import SMOTE\n",
        "from sklearn.decomposition import PCA\n",
        "from sklearn.feature_selection import RFECV,RFE"
      ],
      "execution_count": 0,
      "outputs": [
        {
          "output_type": "stream",
          "text": [
            "/usr/local/lib/python3.6/dist-packages/sklearn/externals/six.py:31: FutureWarning: The module is deprecated in version 0.21 and will be removed in version 0.23 since we've dropped support for Python 2.7. Please rely on the official version of six (https://pypi.org/project/six/).\n",
            "  \"(https://pypi.org/project/six/).\", FutureWarning)\n",
            "/usr/local/lib/python3.6/dist-packages/sklearn/utils/deprecation.py:144: FutureWarning: The sklearn.neighbors.base module is  deprecated in version 0.22 and will be removed in version 0.24. The corresponding classes / functions should instead be imported from sklearn.neighbors. Anything that cannot be imported from sklearn.neighbors is now part of the private API.\n",
            "  warnings.warn(message, FutureWarning)\n"
          ],
          "name": "stderr"
        }
      ]
    },
    {
      "cell_type": "code",
      "metadata": {
        "id": "7uNrA7ViKg0f",
        "colab_type": "code",
        "colab": {}
      },
      "source": [
        "encode = LabelEncoder()\n",
        "sme = SMOTE()\n",
        "pca = PCA()"
      ],
      "execution_count": 0,
      "outputs": []
    },
    {
      "cell_type": "code",
      "metadata": {
        "id": "E6X8hgsc9VBJ",
        "colab_type": "code",
        "outputId": "9ce338b9-49a8-499b-fe6c-9a67d920abf2",
        "colab": {
          "base_uri": "https://localhost:8080/",
          "height": 54
        }
      },
      "source": [
        "!pip install -U -q PyDrive\n",
        "from pydrive.auth import GoogleAuth\n",
        "from pydrive.drive import GoogleDrive\n",
        "from google.colab import auth\n",
        "from oauth2client.client import GoogleCredentials\n",
        "# Authenticate and create the PyDrive client.\n",
        "auth.authenticate_user()\n",
        "gauth = GoogleAuth()\n",
        "gauth.credentials = GoogleCredentials.get_application_default()\n",
        "drive = GoogleDrive(gauth)\n",
        "\n",
        "link='https://drive.google.com/open?id=1hdavpx6TNFMm_5unP66Wxkls_sX4Xgyh'\n",
        "link2 = 'https://drive.google.com/open?id=1hkwXBcF9aVdGTBSVWORIEN131QqZnXBL'\n",
        "#train data link\n",
        "fluff, id = link.split('=')\n",
        "fluff,id1 = link2.split('=')\n",
        "print (id) # Verify that you have everything after '='\n",
        "print(id1)\n",
        "#train data\n",
        "downloaded = drive.CreateFile({'id':id}) \n",
        "downloaded1 = drive.CreateFile({'id':id1}) \n",
        "downloaded.GetContentFile('train_aero.csv')\n",
        "downloaded1.GetContentFile('test_aero.csv')  \n",
        "data = pd.read_csv('train_aero.csv')\n",
        "test = pd.read_csv('test_aero.csv')\n",
        "# Dataset is now stored in a Panda"
      ],
      "execution_count": 0,
      "outputs": [
        {
          "output_type": "stream",
          "text": [
            "1hdavpx6TNFMm_5unP66Wxkls_sX4Xgyh\n",
            "1hkwXBcF9aVdGTBSVWORIEN131QqZnXBL\n"
          ],
          "name": "stdout"
        }
      ]
    },
    {
      "cell_type": "code",
      "metadata": {
        "id": "Ig-P_54ZzKJE",
        "colab_type": "code",
        "colab": {}
      },
      "source": [
        "test['Safety_Score'] = MinMaxScaler(feature_range=(0,100)).fit_transform(test[['Safety_Score']])\n",
        "test['Days_Since_Inspection'] = MinMaxScaler(feature_range=(1,23)).fit_transform(test[['Days_Since_Inspection']])\n",
        "test['Total_Safety_Complaints'] = MinMaxScaler(feature_range=(0,54)).fit_transform(test[['Total_Safety_Complaints']])\n",
        "test['Control_Metric'] = MinMaxScaler(feature_range=(21,98)).fit_transform(test[['Control_Metric']])\n",
        "\n",
        "test['Turbulence_In_gforces'] = MinMaxScaler(feature_range=(0.14,0.88)).fit_transform(test[['Turbulence_In_gforces']])\n",
        "test['Cabin_Temperature'] = MinMaxScaler(feature_range=(74.74,94.20)).fit_transform(test[['Cabin_Temperature']])\n",
        "test['Accident_Type_Code'] = MinMaxScaler(feature_range=(1,7)).fit_transform(test[['Accident_Type_Code']])\n",
        "test['Max_Elevation'] = MinMaxScaler(feature_range=(800,62000)).fit_transform(test[['Max_Elevation']])\n",
        "test['Violations'] = MinMaxScaler(feature_range=(0,5)).fit_transform(test[['Violations']])\n",
        "test['Adverse_Weather_Metric'] = MinMaxScaler(feature_range=(0,2.3)).fit_transform(test[['Adverse_Weather_Metric']])"
      ],
      "execution_count": 0,
      "outputs": []
    },
    {
      "cell_type": "code",
      "metadata": {
        "id": "xbyC37nE4xo0",
        "colab_type": "code",
        "outputId": "9305af3e-0f78-4aec-832d-f7ffd65924a8",
        "colab": {
          "base_uri": "https://localhost:8080/",
          "height": 35
        }
      },
      "source": [
        "test.shape"
      ],
      "execution_count": 0,
      "outputs": [
        {
          "output_type": "execute_result",
          "data": {
            "text/plain": [
              "(2500, 11)"
            ]
          },
          "metadata": {
            "tags": []
          },
          "execution_count": 5
        }
      ]
    },
    {
      "cell_type": "code",
      "metadata": {
        "id": "nwcjkaZwraxd",
        "colab_type": "code",
        "colab": {}
      },
      "source": [
        "Y = encode.fit_transform(data['Severity'])\n"
      ],
      "execution_count": 0,
      "outputs": []
    },
    {
      "cell_type": "code",
      "metadata": {
        "id": "loLYWw-H_Hw2",
        "colab_type": "code",
        "colab": {}
      },
      "source": [
        "X = data.iloc[:,1:12]"
      ],
      "execution_count": 0,
      "outputs": []
    },
    {
      "cell_type": "code",
      "metadata": {
        "id": "7NDFtfwU9xvx",
        "colab_type": "code",
        "outputId": "8e246aa8-d593-498c-9c87-15ba693a0f11",
        "colab": {
          "base_uri": "https://localhost:8080/",
          "height": 402
        }
      },
      "source": [
        "sns.heatmap(data.corr(),vmin=-1, vmax=1, center=0,cmap= 'coolwarm')"
      ],
      "execution_count": 0,
      "outputs": [
        {
          "output_type": "execute_result",
          "data": {
            "text/plain": [
              "<matplotlib.axes._subplots.AxesSubplot at 0x7fe494d50dd8>"
            ]
          },
          "metadata": {
            "tags": []
          },
          "execution_count": 8
        },
        {
          "output_type": "display_data",
          "data": {
            "image/png": "[encoded data removed]",
            "text/plain": [
              "<Figure size 432x288 with 2 Axes>"
            ]
          },
          "metadata": {
            "tags": []
          }
        }
      ]
    },
    {
      "cell_type": "code",
      "metadata": {
        "id": "8NtVwID7mLiR",
        "colab_type": "code",
        "colab": {}
      },
      "source": [
        "X['Safety_Score'] = MinMaxScaler(feature_range=(0,100)).fit_transform(X[['Safety_Score']])\n",
        "X['Days_Since_Inspection'] = MinMaxScaler(feature_range=(1,23)).fit_transform(X[['Days_Since_Inspection']])\n",
        "X['Total_Safety_Complaints'] = MinMaxScaler(feature_range=(0,54)).fit_transform(X[['Total_Safety_Complaints']])\n",
        "X['Control_Metric'] = MinMaxScaler(feature_range=(0,100)).fit_transform(X[['Control_Metric']])\n",
        "\n",
        "X['Turbulence_In_gforces'] = MinMaxScaler(feature_range=(0.13,0.88)).fit_transform(X[['Turbulence_In_gforces']])\n",
        "X['Cabin_Temperature'] = MinMaxScaler(feature_range=(74.74,97.51)).fit_transform(X[['Cabin_Temperature']])\n",
        "X['Accident_Type_Code'] = MinMaxScaler(feature_range=(1,7)).fit_transform(X[['Accident_Type_Code']])\n",
        "X['Max_Elevation'] = MinMaxScaler(feature_range=(800,6000)).fit_transform(X[['Max_Elevation']])\n",
        "X['Violations'] = MinMaxScaler(feature_range=(0,5)).fit_transform(X[['Violations']])\n",
        "X['Adverse_Weather_Metric'] = MinMaxScaler(feature_range=(0,2.3)).fit_transform(X[['Adverse_Weather_Metric']])"
      ],
      "execution_count": 0,
      "outputs": []
    },
    {
      "cell_type": "code",
      "metadata": {
        "id": "YHHus-dAmkpa",
        "colab_type": "code",
        "colab": {}
      },
      "source": [
        "from sklearn.model_selection import StratifiedKFold,train_test_split as tts\n",
        "from sklearn.svm import SVC\n",
        "from sklearn.ensemble import RandomForestClassifier\n",
        "from sklearn.metrics import classification_report\n",
        "clf = SVC(C=1000,gamma=1e-3,decision_function_shape='ovr',verbose=True)"
      ],
      "execution_count": 0,
      "outputs": []
    },
    {
      "cell_type": "code",
      "metadata": {
        "id": "5zVC7K0hyj5G",
        "colab_type": "code",
        "colab": {}
      },
      "source": [
        "xtrain,xtest,ytrain,ytest = tts(X,Y,test_size=0.4)"
      ],
      "execution_count": 0,
      "outputs": []
    },
    {
      "cell_type": "code",
      "metadata": {
        "id": "bw0gzOTH2Crl",
        "colab_type": "code",
        "colab": {}
      },
      "source": [
        "clf = RandomForestClassifier(max_features=6,max_depth=6,random_state=0)"
      ],
      "execution_count": 0,
      "outputs": []
    },
    {
      "cell_type": "code",
      "metadata": {
        "id": "Kgo76xk12SqA",
        "colab_type": "code",
        "outputId": "bcdcfcd8-0c7e-49f4-f7c5-8afd2348a44e",
        "colab": {
          "base_uri": "https://localhost:8080/",
          "height": 164
        }
      },
      "source": [
        "clf.fit(xtrain,ytrain)"
      ],
      "execution_count": 0,
      "outputs": [
        {
          "output_type": "execute_result",
          "data": {
            "text/plain": [
              "RandomForestClassifier(bootstrap=True, ccp_alpha=0.0, class_weight=None,\n",
              "                       criterion='gini', max_depth=6, max_features=6,\n",
              "                       max_leaf_nodes=None, max_samples=None,\n",
              "                       min_impurity_decrease=0.0, min_impurity_split=None,\n",
              "                       min_samples_leaf=1, min_samples_split=2,\n",
              "                       min_weight_fraction_leaf=0.0, n_estimators=100,\n",
              "                       n_jobs=None, oob_score=False, random_state=0, verbose=0,\n",
              "                       warm_start=False)"
            ]
          },
          "metadata": {
            "tags": []
          },
          "execution_count": 13
        }
      ]
    },
    {
      "cell_type": "code",
      "metadata": {
        "id": "5e3yM4w_2WIB",
        "colab_type": "code",
        "outputId": "cbcb87be-c574-4683-8ff7-ccfbea221664",
        "colab": {
          "base_uri": "https://localhost:8080/",
          "height": 35
        }
      },
      "source": [
        "clf.score(xtrain,ytrain)"
      ],
      "execution_count": 0,
      "outputs": [
        {
          "output_type": "execute_result",
          "data": {
            "text/plain": [
              "0.8435"
            ]
          },
          "metadata": {
            "tags": []
          },
          "execution_count": 14
        }
      ]
    },
    {
      "cell_type": "code",
      "metadata": {
        "id": "-24qGOGK2cBE",
        "colab_type": "code",
        "outputId": "cde09b8e-0387-4c01-c367-a50dca5fac60",
        "colab": {
          "base_uri": "https://localhost:8080/",
          "height": 35
        }
      },
      "source": [
        "pred =clf.predict(test)\n",
        "len(pred)"
      ],
      "execution_count": 0,
      "outputs": [
        {
          "output_type": "execute_result",
          "data": {
            "text/plain": [
              "2500"
            ]
          },
          "metadata": {
            "tags": []
          },
          "execution_count": 15
        }
      ]
    },
    {
      "cell_type": "code",
      "metadata": {
        "id": "OtfHiIr0213n",
        "colab_type": "code",
        "outputId": "6aaea302-8ed3-478e-c29e-59d4904091ab",
        "colab": {
          "base_uri": "https://localhost:8080/",
          "height": 219
        }
      },
      "source": [
        "print(classification_report(ytest[:pred.shape[0]],pred))"
      ],
      "execution_count": 0,
      "outputs": [
        {
          "output_type": "stream",
          "text": [
            "              precision    recall  f1-score   support\n",
            "\n",
            "           0       0.31      0.30      0.31       760\n",
            "           1       0.25      0.28      0.26       617\n",
            "           2       0.17      0.14      0.15       449\n",
            "           3       0.28      0.28      0.28       674\n",
            "\n",
            "    accuracy                           0.26      2500\n",
            "   macro avg       0.25      0.25      0.25      2500\n",
            "weighted avg       0.26      0.26      0.26      2500\n",
            "\n"
          ],
          "name": "stdout"
        }
      ]
    },
    {
      "cell_type": "code",
      "metadata": {
        "id": "Pvxvd4K9272u",
        "colab_type": "code",
        "colab": {}
      },
      "source": [
        "sol = pd.DataFrame()"
      ],
      "execution_count": 0,
      "outputs": []
    },
    {
      "cell_type": "code",
      "metadata": {
        "id": "NQEU8bBX3fFG",
        "colab_type": "code",
        "colab": {}
      },
      "source": [
        "sol['Accident_ID'] = test['Accident_ID']"
      ],
      "execution_count": 0,
      "outputs": []
    },
    {
      "cell_type": "code",
      "metadata": {
        "id": "UvOQzrue3xeJ",
        "colab_type": "code",
        "colab": {}
      },
      "source": [
        "sol['Severity'] = encode.inverse_transform(pred)"
      ],
      "execution_count": 0,
      "outputs": []
    },
    {
      "cell_type": "code",
      "metadata": {
        "id": "nxaWaSzs37sq",
        "colab_type": "code",
        "colab": {}
      },
      "source": [
        "pd.DataFrame(sol).to_csv('Solve.csv',index=False)"
      ],
      "execution_count": 0,
      "outputs": []
    },
    {
      "cell_type": "code",
      "metadata": {
        "id": "tlj0DTme38u1",
        "colab_type": "code",
        "colab": {}
      },
      "source": [
        "from google.colab import files"
      ],
      "execution_count": 0,
      "outputs": []
    },
    {
      "cell_type": "code",
      "metadata": {
        "id": "AgdFxH5o4KEB",
        "colab_type": "code",
        "colab": {}
      },
      "source": [
        "files.download('Solve.csv')"
      ],
      "execution_count": 0,
      "outputs": []
    },
    {
      "cell_type": "code",
      "metadata": {
        "id": "7oJJnPZz4Nfk",
        "colab_type": "code",
        "outputId": "5c0a5b29-8a3a-4658-bc4d-7ecc3e6f1590",
        "colab": {
          "base_uri": "https://localhost:8080/",
          "height": 35
        }
      },
      "source": [
        "sol.shape"
      ],
      "execution_count": 0,
      "outputs": [
        {
          "output_type": "execute_result",
          "data": {
            "text/plain": [
              "(2500, 2)"
            ]
          },
          "metadata": {
            "tags": []
          },
          "execution_count": 23
        }
      ]
    },
    {
      "cell_type": "code",
      "metadata": {
        "id": "mhRVOjA442X0",
        "colab_type": "code",
        "colab": {}
      },
      "source": [
        ""
      ],
      "execution_count": 0,
      "outputs": []
    }
  ]
}