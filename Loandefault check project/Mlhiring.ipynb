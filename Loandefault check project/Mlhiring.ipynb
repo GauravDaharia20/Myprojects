{
  "nbformat": 4,
  "nbformat_minor": 0,
  "metadata": {
    "colab": {
      "name": "Mlhiring.ipynb",
      "version": "0.3.2",
      "provenance": [],
      "collapsed_sections": [],
      "machine_shape": "hm"
    },
    "kernelspec": {
      "name": "python3",
      "display_name": "Python 3"
    },
    "accelerator": "GPU"
  },
  "cells": [
    {
      "cell_type": "code",
      "metadata": {
        "id": "Qq2FtiLNaI85",
        "colab_type": "code",
        "colab": {
          "base_uri": "https://localhost:8080/",
          "height": 51
        },
        "outputId": "8d3ecdf9-7fc7-4418-bd33-a259572039be"
      },
      "source": [
        "!pip install -U -q PyDrive\n",
        "from pydrive.auth import GoogleAuth\n",
        "from pydrive.drive import GoogleDrive\n",
        "from google.colab import auth\n",
        "from oauth2client.client import GoogleCredentials\n",
        "# Authenticate and create the PyDrive client.\n",
        "auth.authenticate_user()\n",
        "gauth = GoogleAuth()\n",
        "gauth.credentials = GoogleCredentials.get_application_default()\n",
        "drive = GoogleDrive(gauth)"
      ],
      "execution_count": 1,
      "outputs": [
        {
          "output_type": "stream",
          "text": [
            "\u001b[?25l\r\u001b[K     |▎                               | 10kB 24.3MB/s eta 0:00:01\r\u001b[K     |▋                               | 20kB 7.3MB/s eta 0:00:01\r\u001b[K     |█                               | 30kB 10.2MB/s eta 0:00:01\r\u001b[K     |█▎                              | 40kB 6.3MB/s eta 0:00:01\r\u001b[K     |█▋                              | 51kB 7.7MB/s eta 0:00:01\r\u001b[K     |██                              | 61kB 9.1MB/s eta 0:00:01\r\u001b[K     |██▎                             | 71kB 10.4MB/s eta 0:00:01\r\u001b[K     |██▋                             | 81kB 11.5MB/s eta 0:00:01\r\u001b[K     |███                             | 92kB 12.7MB/s eta 0:00:01\r\u001b[K     |███▎                            | 102kB 10.1MB/s eta 0:00:01\r\u001b[K     |███▋                            | 112kB 10.1MB/s eta 0:00:01\r\u001b[K     |████                            | 122kB 10.1MB/s eta 0:00:01\r\u001b[K     |████▎                           | 133kB 10.1MB/s eta 0:00:01\r\u001b[K     |████▋                           | 143kB 10.1MB/s eta 0:00:01\r\u001b[K     |█████                           | 153kB 10.1MB/s eta 0:00:01\r\u001b[K     |█████▎                          | 163kB 10.1MB/s eta 0:00:01\r\u001b[K     |█████▋                          | 174kB 10.1MB/s eta 0:00:01\r\u001b[K     |██████                          | 184kB 10.1MB/s eta 0:00:01\r\u001b[K     |██████▎                         | 194kB 10.1MB/s eta 0:00:01\r\u001b[K     |██████▋                         | 204kB 10.1MB/s eta 0:00:01\r\u001b[K     |███████                         | 215kB 10.1MB/s eta 0:00:01\r\u001b[K     |███████▎                        | 225kB 10.1MB/s eta 0:00:01\r\u001b[K     |███████▋                        | 235kB 10.1MB/s eta 0:00:01\r\u001b[K     |████████                        | 245kB 10.1MB/s eta 0:00:01\r\u001b[K     |████████▎                       | 256kB 10.1MB/s eta 0:00:01\r\u001b[K     |████████▋                       | 266kB 10.1MB/s eta 0:00:01\r\u001b[K     |█████████                       | 276kB 10.1MB/s eta 0:00:01\r\u001b[K     |█████████▎                      | 286kB 10.1MB/s eta 0:00:01\r\u001b[K     |█████████▋                      | 296kB 10.1MB/s eta 0:00:01\r\u001b[K     |██████████                      | 307kB 10.1MB/s eta 0:00:01\r\u001b[K     |██████████▎                     | 317kB 10.1MB/s eta 0:00:01\r\u001b[K     |██████████▋                     | 327kB 10.1MB/s eta 0:00:01\r\u001b[K     |███████████                     | 337kB 10.1MB/s eta 0:00:01\r\u001b[K     |███████████▎                    | 348kB 10.1MB/s eta 0:00:01\r\u001b[K     |███████████▋                    | 358kB 10.1MB/s eta 0:00:01\r\u001b[K     |████████████                    | 368kB 10.1MB/s eta 0:00:01\r\u001b[K     |████████████▎                   | 378kB 10.1MB/s eta 0:00:01\r\u001b[K     |████████████▋                   | 389kB 10.1MB/s eta 0:00:01\r\u001b[K     |█████████████                   | 399kB 10.1MB/s eta 0:00:01\r\u001b[K     |█████████████▎                  | 409kB 10.1MB/s eta 0:00:01\r\u001b[K     |█████████████▋                  | 419kB 10.1MB/s eta 0:00:01\r\u001b[K     |██████████████                  | 430kB 10.1MB/s eta 0:00:01\r\u001b[K     |██████████████▎                 | 440kB 10.1MB/s eta 0:00:01\r\u001b[K     |██████████████▋                 | 450kB 10.1MB/s eta 0:00:01\r\u001b[K     |███████████████                 | 460kB 10.1MB/s eta 0:00:01\r\u001b[K     |███████████████▎                | 471kB 10.1MB/s eta 0:00:01\r\u001b[K     |███████████████▋                | 481kB 10.1MB/s eta 0:00:01\r\u001b[K     |████████████████                | 491kB 10.1MB/s eta 0:00:01\r\u001b[K     |████████████████▎               | 501kB 10.1MB/s eta 0:00:01\r\u001b[K     |████████████████▋               | 512kB 10.1MB/s eta 0:00:01\r\u001b[K     |█████████████████               | 522kB 10.1MB/s eta 0:00:01\r\u001b[K     |█████████████████▎              | 532kB 10.1MB/s eta 0:00:01\r\u001b[K     |█████████████████▋              | 542kB 10.1MB/s eta 0:00:01\r\u001b[K     |██████████████████              | 552kB 10.1MB/s eta 0:00:01\r\u001b[K     |██████████████████▎             | 563kB 10.1MB/s eta 0:00:01\r\u001b[K     |██████████████████▋             | 573kB 10.1MB/s eta 0:00:01\r\u001b[K     |███████████████████             | 583kB 10.1MB/s eta 0:00:01\r\u001b[K     |███████████████████▎            | 593kB 10.1MB/s eta 0:00:01\r\u001b[K     |███████████████████▋            | 604kB 10.1MB/s eta 0:00:01\r\u001b[K     |████████████████████            | 614kB 10.1MB/s eta 0:00:01\r\u001b[K     |████████████████████▎           | 624kB 10.1MB/s eta 0:00:01\r\u001b[K     |████████████████████▋           | 634kB 10.1MB/s eta 0:00:01\r\u001b[K     |█████████████████████           | 645kB 10.1MB/s eta 0:00:01\r\u001b[K     |█████████████████████▎          | 655kB 10.1MB/s eta 0:00:01\r\u001b[K     |█████████████████████▋          | 665kB 10.1MB/s eta 0:00:01\r\u001b[K     |██████████████████████          | 675kB 10.1MB/s eta 0:00:01\r\u001b[K     |██████████████████████▎         | 686kB 10.1MB/s eta 0:00:01\r\u001b[K     |██████████████████████▋         | 696kB 10.1MB/s eta 0:00:01\r\u001b[K     |███████████████████████         | 706kB 10.1MB/s eta 0:00:01\r\u001b[K     |███████████████████████▎        | 716kB 10.1MB/s eta 0:00:01\r\u001b[K     |███████████████████████▋        | 727kB 10.1MB/s eta 0:00:01\r\u001b[K     |████████████████████████        | 737kB 10.1MB/s eta 0:00:01\r\u001b[K     |████████████████████████▎       | 747kB 10.1MB/s eta 0:00:01\r\u001b[K     |████████████████████████▋       | 757kB 10.1MB/s eta 0:00:01\r\u001b[K     |████████████████████████▉       | 768kB 10.1MB/s eta 0:00:01\r\u001b[K     |█████████████████████████▏      | 778kB 10.1MB/s eta 0:00:01\r\u001b[K     |█████████████████████████▌      | 788kB 10.1MB/s eta 0:00:01\r\u001b[K     |█████████████████████████▉      | 798kB 10.1MB/s eta 0:00:01\r\u001b[K     |██████████████████████████▏     | 808kB 10.1MB/s eta 0:00:01\r\u001b[K     |██████████████████████████▌     | 819kB 10.1MB/s eta 0:00:01\r\u001b[K     |██████████████████████████▉     | 829kB 10.1MB/s eta 0:00:01\r\u001b[K     |███████████████████████████▏    | 839kB 10.1MB/s eta 0:00:01\r\u001b[K     |███████████████████████████▌    | 849kB 10.1MB/s eta 0:00:01\r\u001b[K     |███████████████████████████▉    | 860kB 10.1MB/s eta 0:00:01\r\u001b[K     |████████████████████████████▏   | 870kB 10.1MB/s eta 0:00:01\r\u001b[K     |████████████████████████████▌   | 880kB 10.1MB/s eta 0:00:01\r\u001b[K     |████████████████████████████▉   | 890kB 10.1MB/s eta 0:00:01\r\u001b[K     |█████████████████████████████▏  | 901kB 10.1MB/s eta 0:00:01\r\u001b[K     |█████████████████████████████▌  | 911kB 10.1MB/s eta 0:00:01\r\u001b[K     |█████████████████████████████▉  | 921kB 10.1MB/s eta 0:00:01\r\u001b[K     |██████████████████████████████▏ | 931kB 10.1MB/s eta 0:00:01\r\u001b[K     |██████████████████████████████▌ | 942kB 10.1MB/s eta 0:00:01\r\u001b[K     |██████████████████████████████▉ | 952kB 10.1MB/s eta 0:00:01\r\u001b[K     |███████████████████████████████▏| 962kB 10.1MB/s eta 0:00:01\r\u001b[K     |███████████████████████████████▌| 972kB 10.1MB/s eta 0:00:01\r\u001b[K     |███████████████████████████████▉| 983kB 10.1MB/s eta 0:00:01\r\u001b[K     |████████████████████████████████| 993kB 10.1MB/s \n",
            "\u001b[?25h  Building wheel for PyDrive (setup.py) ... \u001b[?25l\u001b[?25hdone\n"
          ],
          "name": "stdout"
        }
      ]
    },
    {
      "cell_type": "code",
      "metadata": {
        "id": "OhZSm76UBGvg",
        "colab_type": "code",
        "colab": {}
      },
      "source": [
        "from sklearn.preprocessing import MinMaxScaler\n",
        "scl = MinMaxScaler(feature_range=(200,500))"
      ],
      "execution_count": 0,
      "outputs": []
    },
    {
      "cell_type": "code",
      "metadata": {
        "id": "w4qengydcCLb",
        "colab_type": "code",
        "colab": {}
      },
      "source": [
        "import pandas as pd\n",
        "import numpy as np\n"
      ],
      "execution_count": 0,
      "outputs": []
    },
    {
      "cell_type": "code",
      "metadata": {
        "id": "JMImJ_r_a67R",
        "colab_type": "code",
        "colab": {}
      },
      "source": [
        "link = 'https://drive.google.com/open?id=1EUwJ-YzAlzuaAvRJ2cXqyyadbsn_2S66' \n",
        "link1 = 'https://drive.google.com/open?id=1SAvSVsbqmVxmNXc1EaLo2VJKp4QTwpai'"
      ],
      "execution_count": 0,
      "outputs": []
    },
    {
      "cell_type": "code",
      "metadata": {
        "id": "kVPgC_VxbaUf",
        "colab_type": "code",
        "outputId": "447171e6-7622-4eac-b1c9-8c7274a99bb5",
        "colab": {
          "base_uri": "https://localhost:8080/",
          "height": 34
        }
      },
      "source": [
        "#train data link\n",
        "fluff, id = link.split('=')\n",
        "print (id) # Verify that you have everything after '='"
      ],
      "execution_count": 5,
      "outputs": [
        {
          "output_type": "stream",
          "text": [
            "1EUwJ-YzAlzuaAvRJ2cXqyyadbsn_2S66\n"
          ],
          "name": "stdout"
        }
      ]
    },
    {
      "cell_type": "code",
      "metadata": {
        "id": "fkKqkLvRAXbL",
        "colab_type": "code",
        "outputId": "72694df2-4c46-465f-c583-5edc6cfa7b9a",
        "colab": {
          "base_uri": "https://localhost:8080/",
          "height": 34
        }
      },
      "source": [
        "#test data link\n",
        "fluff, id1 = link1.split('=')\n",
        "print (id1) # Verify that you have everything after '='"
      ],
      "execution_count": 6,
      "outputs": [
        {
          "output_type": "stream",
          "text": [
            "1SAvSVsbqmVxmNXc1EaLo2VJKp4QTwpai\n"
          ],
          "name": "stdout"
        }
      ]
    },
    {
      "cell_type": "code",
      "metadata": {
        "id": "kmXkUvC-byiE",
        "colab_type": "code",
        "colab": {}
      },
      "source": [
        "#train data\n",
        "downloaded = drive.CreateFile({'id':id}) \n",
        "downloaded.GetContentFile('datahack_train.csv')  \n",
        "data = pd.read_csv('datahack_train.csv')\n",
        "# Dataset is now stored in a Panda"
      ],
      "execution_count": 0,
      "outputs": []
    },
    {
      "cell_type": "code",
      "metadata": {
        "id": "hewjFZ4JAtal",
        "colab_type": "code",
        "colab": {}
      },
      "source": [
        "downloaded = drive.CreateFile({'id':id1}) \n",
        "downloaded.GetContentFile('datahack_test.csv')  \n",
        "data_test = pd.read_csv('datahack_test.csv')\n"
      ],
      "execution_count": 0,
      "outputs": []
    },
    {
      "cell_type": "code",
      "metadata": {
        "id": "N2lJ3nsWBYDm",
        "colab_type": "code",
        "colab": {}
      },
      "source": [
        "data_test.drop('source',axis=1,inplace=True)"
      ],
      "execution_count": 0,
      "outputs": []
    },
    {
      "cell_type": "code",
      "metadata": {
        "id": "q8DXR-pXBguj",
        "colab_type": "code",
        "colab": {}
      },
      "source": [
        "data_test.drop('financial_institution',axis=1,inplace=True)"
      ],
      "execution_count": 0,
      "outputs": []
    },
    {
      "cell_type": "code",
      "metadata": {
        "id": "crPYmIBKBuBo",
        "colab_type": "code",
        "colab": {}
      },
      "source": [
        "data_test.drop('origination_date',axis=1,inplace=True)"
      ],
      "execution_count": 0,
      "outputs": []
    },
    {
      "cell_type": "code",
      "metadata": {
        "id": "ynSGznGhCFEY",
        "colab_type": "code",
        "colab": {}
      },
      "source": [
        "data_test.drop('loan_purpose',axis=1,inplace=True)"
      ],
      "execution_count": 0,
      "outputs": []
    },
    {
      "cell_type": "code",
      "metadata": {
        "id": "zIX1OHmCCJQF",
        "colab_type": "code",
        "colab": {}
      },
      "source": [
        "data_test.drop('insurance_percent',axis=1,inplace=True)"
      ],
      "execution_count": 0,
      "outputs": []
    },
    {
      "cell_type": "code",
      "metadata": {
        "id": "b4qGq4bMB97a",
        "colab_type": "code",
        "colab": {}
      },
      "source": [
        "data_test.drop('first_payment_date',axis=1,inplace=True)"
      ],
      "execution_count": 0,
      "outputs": []
    },
    {
      "cell_type": "code",
      "metadata": {
        "id": "olKtUeaGKIB8",
        "colab_type": "code",
        "outputId": "32ecfdc5-0e21-4c5a-da4f-9514efd47272",
        "colab": {
          "base_uri": "https://localhost:8080/",
          "height": 34
        }
      },
      "source": [
        "X_test = data_test.iloc[:,1:9]\n",
        "Y_test = data_test.loan_id\n",
        "X_test.shape"
      ],
      "execution_count": 15,
      "outputs": [
        {
          "output_type": "execute_result",
          "data": {
            "text/plain": [
              "(35866, 8)"
            ]
          },
          "metadata": {
            "tags": []
          },
          "execution_count": 15
        }
      ]
    },
    {
      "cell_type": "code",
      "metadata": {
        "id": "ndb-XFe3b3nx",
        "colab_type": "code",
        "colab": {}
      },
      "source": [
        "data.drop('source',axis=1,inplace=True)"
      ],
      "execution_count": 0,
      "outputs": []
    },
    {
      "cell_type": "markdown",
      "metadata": {
        "id": "TG7p9pMZbVCP",
        "colab_type": "text"
      },
      "source": [
        ""
      ]
    },
    {
      "cell_type": "code",
      "metadata": {
        "id": "QPVsXicMcIrp",
        "colab_type": "code",
        "colab": {}
      },
      "source": [
        "data.drop('financial_institution',axis=1,inplace=True)"
      ],
      "execution_count": 0,
      "outputs": []
    },
    {
      "cell_type": "code",
      "metadata": {
        "id": "yFk7uigNdOcC",
        "colab_type": "code",
        "colab": {}
      },
      "source": [
        "data.drop('loan_purpose',axis=1,inplace=True)"
      ],
      "execution_count": 0,
      "outputs": []
    },
    {
      "cell_type": "code",
      "metadata": {
        "id": "NLeKqSIUdYTs",
        "colab_type": "code",
        "colab": {}
      },
      "source": [
        "data.drop('origination_date',axis=1,inplace=True)"
      ],
      "execution_count": 0,
      "outputs": []
    },
    {
      "cell_type": "code",
      "metadata": {
        "id": "Yos4Lx0rdiGi",
        "colab_type": "code",
        "colab": {}
      },
      "source": [
        "data.drop('first_payment_date',axis=1,inplace=True)"
      ],
      "execution_count": 0,
      "outputs": []
    },
    {
      "cell_type": "code",
      "metadata": {
        "id": "cRwQZgCPdt_G",
        "colab_type": "code",
        "colab": {}
      },
      "source": [
        "data.drop('insurance_type',axis=1,inplace=True)"
      ],
      "execution_count": 0,
      "outputs": []
    },
    {
      "cell_type": "code",
      "metadata": {
        "id": "7lE42mwAgGr5",
        "colab_type": "code",
        "colab": {}
      },
      "source": [
        "m = np.mean(data.insurance_percent)\n",
        "n = format(m, '.2f')"
      ],
      "execution_count": 0,
      "outputs": []
    },
    {
      "cell_type": "code",
      "metadata": {
        "id": "9On3zrbSi6lw",
        "colab_type": "code",
        "colab": {}
      },
      "source": [
        "def g(s):\n",
        "  if(s==0):\n",
        "    return(n)\n",
        "  else:\n",
        "    return(s)\n",
        "data['insurance_percent'] = data.insurance_percent.apply(g)"
      ],
      "execution_count": 0,
      "outputs": []
    },
    {
      "cell_type": "code",
      "metadata": {
        "id": "GJK4pXlOo_Nw",
        "colab_type": "code",
        "colab": {}
      },
      "source": [
        "data['unpaid_principal_bal'] = scl.fit_transform(data.unpaid_principal_bal.values.reshape(-1,1))"
      ],
      "execution_count": 0,
      "outputs": []
    },
    {
      "cell_type": "code",
      "metadata": {
        "id": "tMGXdT75Z5J7",
        "colab_type": "code",
        "colab": {}
      },
      "source": [
        "data.drop('number_of_borrowers',axis=1,inplace=True)"
      ],
      "execution_count": 0,
      "outputs": []
    },
    {
      "cell_type": "code",
      "metadata": {
        "id": "2oACr0hDpWNK",
        "colab_type": "code",
        "outputId": "37ad60d0-4ceb-4ff7-bde5-001aec67d4ff",
        "colab": {
          "base_uri": "https://localhost:8080/",
          "height": 34
        }
      },
      "source": [
        "X = data.iloc[:,1:9]\n",
        "X.shape"
      ],
      "execution_count": 26,
      "outputs": [
        {
          "output_type": "execute_result",
          "data": {
            "text/plain": [
              "(116058, 8)"
            ]
          },
          "metadata": {
            "tags": []
          },
          "execution_count": 26
        }
      ]
    },
    {
      "cell_type": "code",
      "metadata": {
        "id": "40Jb144IpiKf",
        "colab_type": "code",
        "outputId": "da84945e-777f-4f0e-bdc5-c71138dffa11",
        "colab": {
          "base_uri": "https://localhost:8080/",
          "height": 68
        }
      },
      "source": [
        "Y = data.m13\n",
        "Y.value_counts()"
      ],
      "execution_count": 27,
      "outputs": [
        {
          "output_type": "execute_result",
          "data": {
            "text/plain": [
              "0    115422\n",
              "1       636\n",
              "Name: m13, dtype: int64"
            ]
          },
          "metadata": {
            "tags": []
          },
          "execution_count": 27
        }
      ]
    },
    {
      "cell_type": "code",
      "metadata": {
        "id": "Oc8YK244nWDv",
        "colab_type": "code",
        "colab": {
          "base_uri": "https://localhost:8080/",
          "height": 71
        },
        "outputId": "6bca7791-3441-48f6-aab5-32e98d3a3d66"
      },
      "source": [
        "from imblearn.over_sampling import SMOTE\n",
        "smt = SMOTE()\n",
        "X,Y = smt.fit_resample(X,Y)"
      ],
      "execution_count": 28,
      "outputs": [
        {
          "output_type": "stream",
          "text": [
            "/usr/local/lib/python3.6/dist-packages/sklearn/externals/six.py:31: DeprecationWarning: The module is deprecated in version 0.21 and will be removed in version 0.23 since we've dropped support for Python 2.7. Please rely on the official version of six (https://pypi.org/project/six/).\n",
            "  \"(https://pypi.org/project/six/).\", DeprecationWarning)\n"
          ],
          "name": "stderr"
        }
      ]
    },
    {
      "cell_type": "code",
      "metadata": {
        "id": "8AQxBq3RnZCi",
        "colab_type": "code",
        "colab": {}
      },
      "source": [
        "from sklearn.model_selection import train_test_split as tts"
      ],
      "execution_count": 0,
      "outputs": []
    },
    {
      "cell_type": "code",
      "metadata": {
        "id": "dJL0ASemngLF",
        "colab_type": "code",
        "colab": {}
      },
      "source": [
        "xtrain,xtest,ytrain,ytest=tts(X,Y,test_size=0.4)"
      ],
      "execution_count": 0,
      "outputs": []
    },
    {
      "cell_type": "code",
      "metadata": {
        "id": "iJHa4Ql0n55M",
        "colab_type": "code",
        "colab": {}
      },
      "source": [
        "from sklearn.ensemble import AdaBoostClassifier"
      ],
      "execution_count": 0,
      "outputs": []
    },
    {
      "cell_type": "code",
      "metadata": {
        "id": "ic8ak68eosst",
        "colab_type": "code",
        "colab": {}
      },
      "source": [
        "clf = AdaBoostClassifier()"
      ],
      "execution_count": 0,
      "outputs": []
    },
    {
      "cell_type": "code",
      "metadata": {
        "id": "eH6U8dL_o-tZ",
        "colab_type": "code",
        "outputId": "63db60e8-f3b2-477e-979d-9bf56a95a9fc",
        "colab": {
          "base_uri": "https://localhost:8080/",
          "height": 51
        }
      },
      "source": [
        "clf.fit(xtrain,ytrain)\n"
      ],
      "execution_count": 33,
      "outputs": [
        {
          "output_type": "execute_result",
          "data": {
            "text/plain": [
              "AdaBoostClassifier(algorithm='SAMME.R', base_estimator=None, learning_rate=1.0,\n",
              "                   n_estimators=50, random_state=None)"
            ]
          },
          "metadata": {
            "tags": []
          },
          "execution_count": 33
        }
      ]
    },
    {
      "cell_type": "code",
      "metadata": {
        "id": "2ov6w_kvqOqK",
        "colab_type": "code",
        "outputId": "5f0ea37c-db2a-4ea6-c1f6-1921549ec96b",
        "colab": {
          "base_uri": "https://localhost:8080/",
          "height": 34
        }
      },
      "source": [
        "clf.score(xtrain,ytrain)\n"
      ],
      "execution_count": 34,
      "outputs": [
        {
          "output_type": "execute_result",
          "data": {
            "text/plain": [
              "0.8326281893925173"
            ]
          },
          "metadata": {
            "tags": []
          },
          "execution_count": 34
        }
      ]
    },
    {
      "cell_type": "code",
      "metadata": {
        "id": "ZuKW8oPwqOwz",
        "colab_type": "code",
        "outputId": "f79ed7e8-c0f8-42de-8325-a7d30a972dfc",
        "colab": {
          "base_uri": "https://localhost:8080/",
          "height": 34
        }
      },
      "source": [
        "clf.score(xtest,ytest)"
      ],
      "execution_count": 35,
      "outputs": [
        {
          "output_type": "execute_result",
          "data": {
            "text/plain": [
              "0.8299941519201196"
            ]
          },
          "metadata": {
            "tags": []
          },
          "execution_count": 35
        }
      ]
    },
    {
      "cell_type": "code",
      "metadata": {
        "id": "hPPfXWMbpBtn",
        "colab_type": "code",
        "colab": {}
      },
      "source": [
        "pred = clf.predict(xtest)"
      ],
      "execution_count": 0,
      "outputs": []
    },
    {
      "cell_type": "code",
      "metadata": {
        "id": "FTs61OfHpHES",
        "colab_type": "code",
        "colab": {}
      },
      "source": [
        "from sklearn.metrics import confusion_matrix,classification_report,accuracy_score"
      ],
      "execution_count": 0,
      "outputs": []
    },
    {
      "cell_type": "code",
      "metadata": {
        "id": "1oM5xpHCsqg5",
        "colab_type": "code",
        "outputId": "ae89afaf-9440-4751-e375-a25a8d4feb5e",
        "colab": {
          "base_uri": "https://localhost:8080/",
          "height": 34
        }
      },
      "source": [
        "accuracy_score(ytest,pred)"
      ],
      "execution_count": 38,
      "outputs": [
        {
          "output_type": "execute_result",
          "data": {
            "text/plain": [
              "0.8299941519201196"
            ]
          },
          "metadata": {
            "tags": []
          },
          "execution_count": 38
        }
      ]
    },
    {
      "cell_type": "code",
      "metadata": {
        "id": "c3ZbNOrmpNLR",
        "colab_type": "code",
        "outputId": "24dc26f5-9649-4595-db43-4d9223569e9c",
        "colab": {
          "base_uri": "https://localhost:8080/",
          "height": 170
        }
      },
      "source": [
        "print(classification_report(ytest,pred))"
      ],
      "execution_count": 39,
      "outputs": [
        {
          "output_type": "stream",
          "text": [
            "              precision    recall  f1-score   support\n",
            "\n",
            "           0       0.83      0.83      0.83     46135\n",
            "           1       0.83      0.83      0.83     46203\n",
            "\n",
            "    accuracy                           0.83     92338\n",
            "   macro avg       0.83      0.83      0.83     92338\n",
            "weighted avg       0.83      0.83      0.83     92338\n",
            "\n"
          ],
          "name": "stdout"
        }
      ]
    },
    {
      "cell_type": "code",
      "metadata": {
        "id": "vbZ6z4AspRbz",
        "colab_type": "code",
        "colab": {}
      },
      "source": [
        "predicted = clf.predict(X_test)"
      ],
      "execution_count": 0,
      "outputs": []
    },
    {
      "cell_type": "code",
      "metadata": {
        "id": "rlGpAGPtqj7I",
        "colab_type": "code",
        "colab": {}
      },
      "source": [
        "sub = pd.DataFrame()"
      ],
      "execution_count": 0,
      "outputs": []
    },
    {
      "cell_type": "code",
      "metadata": {
        "id": "LR3k8UgUqsZa",
        "colab_type": "code",
        "colab": {}
      },
      "source": [
        "sub['loan_id']=data_test['loan_id']\n",
        "sub['m13']=predicted"
      ],
      "execution_count": 0,
      "outputs": []
    },
    {
      "cell_type": "code",
      "metadata": {
        "id": "PBBcw1yGqyzB",
        "colab_type": "code",
        "colab": {}
      },
      "source": [
        "pd.DataFrame(sub).to_csv('Mlhiring2.csv',index=False)"
      ],
      "execution_count": 0,
      "outputs": []
    },
    {
      "cell_type": "code",
      "metadata": {
        "id": "VJWX9y-Oq5gu",
        "colab_type": "code",
        "colab": {}
      },
      "source": [
        "from google.colab import files"
      ],
      "execution_count": 0,
      "outputs": []
    },
    {
      "cell_type": "code",
      "metadata": {
        "id": "PU86kzfarTI1",
        "colab_type": "code",
        "colab": {}
      },
      "source": [
        "files.download('Mlhiring2.csv')"
      ],
      "execution_count": 0,
      "outputs": []
    },
    {
      "cell_type": "code",
      "metadata": {
        "id": "pVTiNYXVrYpo",
        "colab_type": "code",
        "colab": {}
      },
      "source": [
        ""
      ],
      "execution_count": 0,
      "outputs": []
    }
  ]
}